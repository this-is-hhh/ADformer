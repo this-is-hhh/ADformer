{
 "cells": [
  {
   "cell_type": "code",
   "execution_count": 1,
   "metadata": {
    "ExecuteTime": {
     "end_time": "2024-10-20T17:23:01.099615Z",
     "start_time": "2024-10-20T17:23:01.089616Z"
    },
    "collapsed": true
   },
   "outputs": [],
   "source": [
    "from datetime import datetime"
   ]
  },
  {
   "cell_type": "markdown",
   "metadata": {
    "collapsed": false
   },
   "source": [
    "#### TimesNet"
   ]
  },
  {
   "cell_type": "code",
   "execution_count": null,
   "metadata": {
    "ExecuteTime": {
     "start_time": "2024-10-20T17:23:01.100616Z"
    },
    "collapsed": false,
    "jupyter": {
     "is_executing": true
    }
   },
   "outputs": [],
   "source": [
    "start_time = datetime.now()\n",
    "\n",
    "# ADSZ Dataset\n",
    "!python -u run.py --task_name classification --is_training 1 --root_path ./dataset/ADSZ/ --model_id ADSZ-Indep --model TimesNet --data ADSZIndep --e_layers 6 --batch_size 32 --d_model 128 --d_ff 256 --top_k 1 --des 'Exp' --itr 5 --learning_rate 0.0001 --train_epochs 100 --patience 10\n",
    "\n",
    "# APAVA Dataset\n",
    "!python -u run.py --task_name classification --is_training 1 --root_path /data0/zxj_data/APAVA --model_id APAVA-Indep --model TimesNet --data APAVAIndep --e_layers 6 --batch_size 32 --d_model 128 --d_ff 256 --top_k 1 --des 'Exp' --itr 5 --learning_rate 0.0001 --train_epochs 100 --patience 10\n",
    "\n",
    "# ADFD Dataset\n",
    "!python -u run.py --task_name classification --is_training 1 --root_path ./dataset/ADFD/ --model_id ADFD-Indep --model TimesNet --data ADFDIndep --e_layers 6 --batch_size 128 --d_model 128 --d_ff 256 --top_k 1 --des 'Exp' --itr 5 --learning_rate 0.0001 --train_epochs 100 --patience 10\n",
    "\n",
    "# CNBPM Dataset\n",
    "!python -u run.py --task_name classification --is_training 1 --root_path ./dataset/CNBPM/ --model_id CNBPM-Indep --model TimesNet --data CNBPMIndep --e_layers 6 --batch_size 128 --d_model 128 --d_ff 256 --top_k 1 --des 'Exp' --itr 5 --learning_rate 0.0001 --train_epochs 100 --patience 10\n",
    "\n",
    "# Cognision-ERP Dataset\n",
    "!python -u run.py --task_name classification --is_training 1 --root_path ./dataset/Cognision-ERP/ --model_id Cognision-ERP-Indep --model TimesNet --data COGERPIndep --e_layers 6 --batch_size 32 --d_model 128 --d_ff 256 --top_k 1 --des 'Exp' --itr 5 --learning_rate 0.0001 --train_epochs 100 --patience 10\n",
    "\n",
    "end_time = datetime.now()\n",
    "print(f'Duration: {end_time - start_time}')"
   ]
  },
  {
   "cell_type": "markdown",
   "metadata": {
    "collapsed": false
   },
   "source": [
    "#### Autoformer"
   ]
  },
  {
   "cell_type": "code",
   "execution_count": null,
   "metadata": {
    "collapsed": false,
    "jupyter": {
     "is_executing": true
    }
   },
   "outputs": [],
   "source": [
    "start_time = datetime.now()\n",
    "\n",
    "# ADSZ Dataset\n",
    "!python -u run.py --task_name classification --is_training 1 --root_path ./dataset/ADSZ/ --model_id ADSZ-Indep --model Autoformer --data ADSZIndep --e_layers 6 --batch_size 32 --d_model 128 --d_ff 256 --des 'Exp' --itr 5 --learning_rate 0.0001 --train_epochs 100 --patience 10\n",
    "\n",
    "# APAVA Dataset\n",
    "!python -u run.py --task_name classification --is_training 1 --root_path /data0/zxj_data/fNIRS/VFT/class4_classhealth_npy --model_id APAVA-Indep --model Autoformer --data APAVAIndep --e_layers 6 --batch_size 32 --d_model 128 --d_ff 256 --des 'Exp' --itr 5 --learning_rate 0.0001 --train_epochs 100 --patience 10\n",
    "\n",
    "# ADFD Dataset\n",
    "!python -u run.py --task_name classification --is_training 1 --root_path ./dataset/ADFD/ --model_id ADFD-Indep --model Autoformer --data ADFDIndep --e_layers 6 --batch_size 128 --d_model 128 --d_ff 256 --des 'Exp' --itr 5 --learning_rate 0.0001 --train_epochs 100 --patience 10\n",
    "\n",
    "# CNBPM Dataset\n",
    "!python -u run.py --task_name classification --is_training 1 --root_path ./dataset/CNBPM/ --model_id CNBPM-Indep --model Autoformer --data CNBPMIndep --e_layers 6 --batch_size 128 --d_model 128 --d_ff 256 --des 'Exp' --itr 5 --learning_rate 0.0001 --train_epochs 100 --patience 10\n",
    "\n",
    "# Cognision-ERP Dataset\n",
    "!python -u run.py --task_name classification --is_training 1 --root_path ./dataset/Cognision-ERP/ --model_id Cognision-ERP-Indep --model Autoformer --data COGERPIndep --e_layers 6 --batch_size 32 --d_model 128 --d_ff 256 --des 'Exp' --itr 5 --learning_rate 0.0001 --train_epochs 100 --patience 10\n",
    "\n",
    "end_time = datetime.now()\n",
    "print(f'Duration: {end_time - start_time}')"
   ]
  },
  {
   "cell_type": "markdown",
   "metadata": {
    "collapsed": false
   },
   "source": [
    "#### FEDformer"
   ]
  },
  {
   "cell_type": "code",
   "execution_count": null,
   "metadata": {
    "collapsed": false,
    "jupyter": {
     "is_executing": true
    },
    "pycharm": {
     "is_executing": true
    }
   },
   "outputs": [],
   "source": [
    "start_time = datetime.now()\n",
    "\n",
    "# ADSZ Dataset\n",
    "!python -u run.py --task_name classification --is_training 1 --root_path ./dataset/ADSZ/ --model_id ADSZ-Indep --model FEDformer --data ADSZIndep --e_layers 6 --batch_size 32 --d_model 128 --d_ff 256 --des 'Exp' --itr 5 --learning_rate 0.0001 --train_epochs 100 --patience 10\n",
    "\n",
    "# APAVA Dataset\n",
    "!python -u run.py --task_name classification --is_training 1 --root_path /data0/zxj_data/fNIRS/VFT/class4_classhealth_npy --model_id APAVA-Indep --model FEDformer --data APAVAIndep --e_layers 6 --batch_size 32 --d_model 128 --d_ff 256 --des 'Exp' --itr 5 --learning_rate 0.0001 --train_epochs 100 --patience 10\n",
    "\n",
    "# ADFD Dataset\n",
    "!python -u run.py --task_name classification --is_training 1 --root_path ./dataset/ADFD/ --model_id ADFD-Indep --model FEDformer --data ADFDIndep --e_layers 6 --batch_size 128 --d_model 128 --d_ff 256 --des 'Exp' --itr 5 --learning_rate 0.0001 --train_epochs 100 --patience 10\n",
    "\n",
    "# CNBPM Dataset\n",
    "!python -u run.py --task_name classification --is_training 1 --root_path ./dataset/CNBPM/ --model_id CNBPM-Indep --model FEDformer --data CNBPMIndep --e_layers 6 --batch_size 128 --d_model 128 --d_ff 256 --des 'Exp' --itr 5 --learning_rate 0.0001 --train_epochs 100 --patience 10\n",
    "\n",
    "# Cognision-ERP Dataset\n",
    "!python -u run.py --task_name classification --is_training 1 --root_path ./dataset/Cognision-ERP/ --model_id Cognision-ERP-Indep --model FEDformer --data COGERPIndep --e_layers 6 --batch_size 32 --d_model 128 --d_ff 256 --des 'Exp' --itr 5 --learning_rate 0.0001 --train_epochs 100 --patience 10\n",
    "\n",
    "end_time = datetime.now()\n",
    "print(f'Duration: {end_time - start_time}')"
   ]
  },
  {
   "cell_type": "markdown",
   "metadata": {
    "collapsed": false
   },
   "source": [
    "#### Informer"
   ]
  },
  {
   "cell_type": "code",
   "execution_count": null,
   "metadata": {
    "collapsed": false,
    "jupyter": {
     "is_executing": true
    },
    "pycharm": {
     "is_executing": true
    }
   },
   "outputs": [],
   "source": [
    "start_time = datetime.now()\n",
    "\n",
    "# ADSZ Dataset\n",
    "!python -u run.py --task_name classification --is_training 1 --root_path ./dataset/ADSZ/ --model_id ADSZ-Indep --model Informer --data ADSZIndep --e_layers 6 --batch_size 32 --d_model 128 --d_ff 256 --des 'Exp' --itr 5 --learning_rate 0.0001 --train_epochs 100 --patience 10\n",
    "\n",
    "# APAVA Dataset\n",
    "!python -u run.py --task_name classification --is_training 1 --root_path ./dataset/APAVA/ --model_id APAVA-Indep --model Informer --data APAVAIndep --e_layers 6 --batch_size 32 --d_model 128 --d_ff 256 --des 'Exp' --itr 5 --learning_rate 0.0001 --train_epochs 100 --patience 10\n",
    "\n",
    "# ADFD Dataset\n",
    "!python -u run.py --task_name classification --is_training 1 --root_path ./dataset/ADFD/ --model_id ADFD-Indep --model Informer --data ADFDIndep --e_layers 6 --batch_size 128 --d_model 128 --d_ff 256 --des 'Exp' --itr 5 --learning_rate 0.0001 --train_epochs 100 --patience 10\n",
    "\n",
    "# CNBPM Dataset\n",
    "!python -u run.py --task_name classification --is_training 1 --root_path ./dataset/CNBPM/ --model_id CNBPM-Indep --model Informer --data CNBPMIndep --e_layers 6 --batch_size 128 --d_model 128 --d_ff 256 --des 'Exp' --itr 5 --learning_rate 0.0001 --train_epochs 100 --patience 10\n",
    "\n",
    "# Cognision-ERP Dataset\n",
    "!python -u run.py --task_name classification --is_training 1 --root_path ./dataset/Cognision-ERP/ --model_id Cognision-ERP-Indep --model Informer --data COGERPIndep --e_layers 6 --batch_size 32 --d_model 128 --d_ff 256 --des 'Exp' --itr 5 --learning_rate 0.0001 --train_epochs 100 --patience 10\n",
    "\n",
    "end_time = datetime.now()\n",
    "print(f'Duration: {end_time - start_time}')"
   ]
  },
  {
   "cell_type": "markdown",
   "metadata": {
    "collapsed": false
   },
   "source": [
    "#### MICN"
   ]
  },
  {
   "cell_type": "code",
   "execution_count": null,
   "metadata": {
    "collapsed": false,
    "jupyter": {
     "is_executing": true
    },
    "pycharm": {
     "is_executing": true
    }
   },
   "outputs": [],
   "source": [
    "start_time = datetime.now()\n",
    "\n",
    "# ADSZ Dataset\n",
    "!python -u run.py --task_name classification --is_training 1 --root_path ./dataset/ADSZ/ --model_id ADSZ-Indep --model MICN --data ADSZIndep --e_layers 6 --batch_size 32 --d_model 128 --d_ff 256 --des 'Exp' --itr 5 --learning_rate 0.0001 --train_epochs 100 --patience 10\n",
    "\n",
    "# APAVA Dataset\n",
    "!python -u run.py --task_name classification --is_training 1 --root_path ./dataset/APAVA/ --model_id APAVA-Indep --model MICN --data APAVAIndep --e_layers 6 --batch_size 32 --d_model 128 --d_ff 256 --des 'Exp' --itr 5 --learning_rate 0.0001 --train_epochs 100 --patience 10\n",
    "\n",
    "# ADFD Dataset\n",
    "!python -u run.py --task_name classification --is_training 1 --root_path ./dataset/ADFD/ --model_id ADFD-Indep --model MICN --data ADFDIndep --e_layers 6 --batch_size 128 --d_model 128 --d_ff 256 --des 'Exp' --itr 5 --learning_rate 0.0001 --train_epochs 100 --patience 10\n",
    "\n",
    "# CNBPM Dataset\n",
    "!python -u run.py --task_name classification --is_training 1 --root_path ./dataset/CNBPM/ --model_id CNBPM-Indep --model MICN --data CNBPMIndep --e_layers 6 --batch_size 128 --d_model 128 --d_ff 256 --des 'Exp' --itr 5 --learning_rate 0.0001 --train_epochs 100 --patience 10\n",
    "\n",
    "# Cognision-ERP Dataset\n",
    "!python -u run.py --task_name classification --is_training 1 --root_path ./dataset/Cognision-ERP/ --model_id Cognision-ERP-Indep --model MICN --data COGERPIndep --e_layers 6 --batch_size 32 --d_model 128 --d_ff 256 --des 'Exp' --itr 5 --learning_rate 0.0001 --train_epochs 100 --patience 10\n",
    "\n",
    "end_time = datetime.now()\n",
    "print(f'Duration: {end_time - start_time}')"
   ]
  },
  {
   "cell_type": "markdown",
   "metadata": {
    "collapsed": false
   },
   "source": [
    "#### PatchTST"
   ]
  },
  {
   "cell_type": "code",
   "execution_count": null,
   "metadata": {
    "collapsed": false,
    "jupyter": {
     "is_executing": true
    },
    "pycharm": {
     "is_executing": true
    }
   },
   "outputs": [],
   "source": [
    "start_time = datetime.now()\n",
    "\n",
    "# ADSZ Dataset\n",
    "!python -u run.py --task_name classification --is_training 1 --root_path ./dataset/ADSZ/ --model_id ADSZ-Indep --model PatchTST --data ADSZIndep --e_layers 6 --batch_size 32 --d_model 128 --d_ff 256 --des 'Exp' --itr 5 --learning_rate 0.0001 --train_epochs 100 --patience 10\n",
    "\n",
    "# APAVA Dataset\n",
    "!python -u run.py --task_name classification --is_training 1 --root_path /data0/zxj_data/APAVA --model_id APAVA-Indep --model PatchTST --data APAVAIndep --e_layers 6 --batch_size 32 --d_model 128 --d_ff 256 --des 'Exp' --itr 5 --learning_rate 0.0001 --train_epochs 100 --patience 10\n",
    "\n",
    "# ADFD Dataset\n",
    "!python -u run.py --task_name classification --is_training 1 --root_path ./dataset/ADFD/ --model_id ADFD-Indep --model PatchTST --data ADFDIndep --e_layers 6 --batch_size 128 --d_model 128 --d_ff 256 --des 'Exp' --itr 5 --learning_rate 0.0001 --train_epochs 100 --patience 10\n",
    "\n",
    "# CNBPM Dataset\n",
    "!python -u run.py --task_name classification --is_training 1 --root_path ./dataset/CNBPM/ --model_id CNBPM-Indep --model PatchTST --data CNBPMIndep --e_layers 6 --batch_size 128 --d_model 128 --d_ff 256 --des 'Exp' --itr 5 --learning_rate 0.0001 --train_epochs 100 --patience 10\n",
    "\n",
    "# Cognision-ERP Dataset\n",
    "!python -u run.py --task_name classification --is_training 1 --root_path ./dataset/Cognision-ERP/ --model_id Cognision-ERP-Indep --model PatchTST --data COGERPIndep --e_layers 6 --batch_size 32 --d_model 128 --d_ff 256 --des 'Exp' --itr 5 --learning_rate 0.0001 --train_epochs 100 --patience 10\n",
    "\n",
    "end_time = datetime.now()\n",
    "print(f'Duration: {end_time - start_time}')"
   ]
  },
  {
   "cell_type": "markdown",
   "metadata": {
    "collapsed": false
   },
   "source": [
    "#### Pyraformer"
   ]
  },
  {
   "cell_type": "code",
   "execution_count": null,
   "metadata": {
    "collapsed": false,
    "jupyter": {
     "is_executing": true
    },
    "pycharm": {
     "is_executing": true
    }
   },
   "outputs": [],
   "source": [
    "start_time = datetime.now()\n",
    "\n",
    "# ADSZ Dataset\n",
    "!python -u run.py --task_name classification --is_training 1 --root_path ./dataset/ADSZ/ --model_id ADSZ-Indep --model Pyraformer --data ADSZIndep --e_layers 6 --batch_size 32 --d_model 128 --d_ff 256 --des 'Exp' --itr 5 --learning_rate 0.0001 --train_epochs 100 --patience 10\n",
    "\n",
    "# APAVA Dataset\n",
    "!python -u run.py --task_name classification --is_training 1 --root_path ./dataset/APAVA/ --model_id APAVA-Indep --model Pyraformer --data APAVAIndep --e_layers 6 --batch_size 32 --d_model 128 --d_ff 256 --des 'Exp' --itr 5 --learning_rate 0.0001 --train_epochs 100 --patience 10\n",
    "\n",
    "# ADFD Dataset\n",
    "!python -u run.py --task_name classification --is_training 1 --root_path ./dataset/ADFD/ --model_id ADFD-Indep --model Pyraformer --data ADFDIndep --e_layers 6 --batch_size 128 --d_model 128 --d_ff 256 --des 'Exp' --itr 5 --learning_rate 0.0001 --train_epochs 100 --patience 10\n",
    "\n",
    "# CNBPM Dataset\n",
    "!python -u run.py --task_name classification --is_training 1 --root_path ./dataset/CNBPM/ --model_id CNBPM-Indep --model Pyraformer --data CNBPMIndep --e_layers 6 --batch_size 128 --d_model 128 --d_ff 256 --des 'Exp' --itr 5 --learning_rate 0.0001 --train_epochs 100 --patience 10\n",
    "\n",
    "# Cognision-ERP Dataset\n",
    "!python -u run.py --task_name classification --is_training 1 --root_path ./dataset/Cognision-ERP/ --model_id Cognision-ERP-Indep --model Pyraformer --data COGERPIndep --e_layers 6 --batch_size 32 --d_model 128 --d_ff 256 --des 'Exp' --itr 5 --learning_rate 0.0001 --train_epochs 100 --patience 10\n",
    "\n",
    "end_time = datetime.now()\n",
    "print(f'Duration: {end_time - start_time}')"
   ]
  },
  {
   "cell_type": "markdown",
   "metadata": {
    "collapsed": false
   },
   "source": [
    "#### Nonformer"
   ]
  },
  {
   "cell_type": "code",
   "execution_count": null,
   "metadata": {
    "collapsed": false,
    "jupyter": {
     "is_executing": true
    },
    "pycharm": {
     "is_executing": true
    }
   },
   "outputs": [],
   "source": [
    "start_time = datetime.now()\n",
    "\n",
    "# ADSZ Dataset\n",
    "!python -u run.py --task_name classification --is_training 1 --root_path ./dataset/ADSZ/ --model_id ADSZ-Indep --model Nonformer --data ADSZIndep --e_layers 6 --batch_size 32 --d_model 128 --d_ff 256 --des 'Exp' --itr 5 --learning_rate 0.0001 --train_epochs 100 --patience 10\n",
    "\n",
    "# APAVA Dataset\n",
    "!python -u run.py --task_name classification --is_training 1 --root_path /data0/zxj_data/fNIRS/VFT/class4_classhealth_npy --model_id APAVA-Indep --model Nonformer --data APAVAIndep --e_layers 6 --batch_size 32 --d_model 128 --d_ff 256 --des 'Exp' --itr 5 --learning_rate 0.0001 --train_epochs 100 --patience 10\n",
    "\n",
    "# ADFD Dataset\n",
    "!python -u run.py --task_name classification --is_training 1 --root_path ./dataset/ADFD/ --model_id ADFD-Indep --model Nonformer --data ADFDIndep --e_layers 6 --batch_size 128 --d_model 128 --d_ff 256 --des 'Exp' --itr 5 --learning_rate 0.0001 --train_epochs 100 --patience 10\n",
    "\n",
    "# CNBPM Dataset\n",
    "!python -u run.py --task_name classification --is_training 1 --root_path ./dataset/CNBPM/ --model_id CNBPM-Indep --model Nonformer --data CNBPMIndep --e_layers 6 --batch_size 128 --d_model 128 --d_ff 256 --des 'Exp' --itr 5 --learning_rate 0.0001 --train_epochs 100 --patience 10\n",
    "\n",
    "# Cognision-ERP Dataset\n",
    "!python -u run.py --task_name classification --is_training 1 --root_path ./dataset/Cognision-ERP/ --model_id Cognision-ERP-Indep --model Nonformer --data COGERPIndep --e_layers 6 --batch_size 32 --d_model 128 --d_ff 256 --des 'Exp' --itr 5 --learning_rate 0.0001 --train_epochs 100 --patience 10\n",
    "\n",
    "end_time = datetime.now()\n",
    "print(f'Duration: {end_time - start_time}')"
   ]
  },
  {
   "cell_type": "markdown",
   "metadata": {
    "collapsed": false
   },
   "source": [
    "#### Crossformer"
   ]
  },
  {
   "cell_type": "code",
   "execution_count": null,
   "metadata": {
    "collapsed": false,
    "jupyter": {
     "is_executing": true
    },
    "pycharm": {
     "is_executing": true
    }
   },
   "outputs": [],
   "source": [
    "start_time = datetime.now()\n",
    "\n",
    "# ADSZ Dataset\n",
    "!python -u run.py --task_name classification --is_training 1 --root_path ./dataset/ADSZ/ --model_id ADSZ-Indep --model Crossformer --data ADSZIndep --e_layers 6 --batch_size 32 --d_model 128 --d_ff 256 --des 'Exp' --itr 5 --learning_rate 0.0001 --train_epochs 100 --patience 10\n",
    "\n",
    "# APAVA Dataset\n",
    "!python -u run.py --task_name classification --is_training 1 --root_path /data0/zxj_data/fNIRS/VFT/class4_classhealth_npy --model_id APAVA-Indep --model Crossformer --data APAVAIndep --e_layers 6 --batch_size 32 --d_model 128 --d_ff 256 --des 'Exp' --itr 5 --learning_rate 0.0001 --train_epochs 100 --patience 10\n",
    "\n",
    "# ADFD Dataset\n",
    "!python -u run.py --task_name classification --is_training 1 --root_path ./dataset/ADFD/ --model_id ADFD-Indep --model Crossformer --data ADFDIndep --e_layers 6 --batch_size 128 --d_model 128 --d_ff 256 --des 'Exp' --itr 5 --learning_rate 0.0001 --train_epochs 100 --patience 10\n",
    "\n",
    "# CNBPM Dataset\n",
    "!python -u run.py --task_name classification --is_training 1 --root_path ./dataset/CNBPM/ --model_id CNBPM-Indep --model Crossformer --data CNBPMIndep --e_layers 6 --batch_size 128 --d_model 128 --d_ff 256 --des 'Exp' --itr 5 --learning_rate 0.0001 --train_epochs 100 --patience 10\n",
    "\n",
    "# Cognision-ERP Dataset\n",
    "!python -u run.py --task_name classification --is_training 1 --root_path ./dataset/Cognision-ERP/ --model_id Cognision-ERP-Indep --model Crossformer --data COGERPIndep --e_layers 6 --batch_size 32 --d_model 128 --d_ff 256 --des 'Exp' --itr 5 --learning_rate 0.0001 --train_epochs 100 --patience 10\n",
    "\n",
    "end_time = datetime.now()\n",
    "print(f'Duration: {end_time - start_time}')"
   ]
  },
  {
   "cell_type": "markdown",
   "metadata": {
    "collapsed": false
   },
   "source": [
    "#### iTransformer"
   ]
  },
  {
   "cell_type": "code",
   "execution_count": null,
   "metadata": {
    "collapsed": false,
    "jupyter": {
     "is_executing": true
    },
    "pycharm": {
     "is_executing": true
    }
   },
   "outputs": [],
   "source": [
    "start_time = datetime.now()\n",
    "\n",
    "# ADSZ Dataset\n",
    "!python -u run.py --task_name classification --is_training 1 --root_path ./dataset/ADSZ/ --model_id ADSZ-Indep --model iTransformer --data ADSZIndep --e_layers 6 --batch_size 32 --d_model 128 --d_ff 256 --des 'Exp' --itr 5 --learning_rate 0.0001 --train_epochs 100 --patience 10\n",
    "\n",
    "# APAVA Dataset\n",
    "!python -u run.py --task_name classification --is_training 1 --root_path /data0/zxj_data/fNIRS/VFT/class4_classhealth_npy --model_id APAVA-Indep --model iTransformer --data APAVAIndep --e_layers 6 --batch_size 32 --d_model 128 --d_ff 256 --des 'Exp' --itr 5 --learning_rate 0.0001 --train_epochs 100 --patience 10\n",
    "\n",
    "!python -u run.py --task_name classification --is_training 1 --root_path /data0/zxj_data/APAVA --model_id APAVA-Indep --model iTransformer --data APAVAIndep --e_layers 6 --batch_size 32 --d_model 128 --d_ff 256 --des 'Exp' --itr 5 --learning_rate 0.0001 --train_epochs 100 --patience 10\n",
    "\n",
    "# ADFD Dataset\n",
    "!python -u run.py --task_name classification --is_training 1 --root_path ./dataset/ADFD/ --model_id ADFD-Indep --model iTransformer --data ADFDIndep --e_layers 6 --batch_size 128 --d_model 128 --d_ff 256 --des 'Exp' --itr 5 --learning_rate 0.0001 --train_epochs 100 --patience 10\n",
    "\n",
    "# CNBPM Dataset\n",
    "!python -u run.py --task_name classification --is_training 1 --root_path ./dataset/CNBPM/ --model_id CNBPM-Indep --model iTransformer --data CNBPMIndep --e_layers 6 --batch_size 128 --d_model 128 --d_ff 256 --des 'Exp' --itr 5 --learning_rate 0.0001 --train_epochs 100 --patience 10\n",
    "\n",
    "# Cognision-ERP Dataset\n",
    "!python -u run.py --task_name classification --is_training 1 --root_path ./dataset/Cognision-ERP/ --model_id Cognision-ERP-Indep --model iTransformer --data COGERPIndep --e_layers 6 --batch_size 32 --d_model 128 --d_ff 256 --des 'Exp' --itr 5 --learning_rate 0.0001 --train_epochs 100 --patience 10\n",
    "\n",
    "end_time = datetime.now()\n",
    "print(f'Duration: {end_time - start_time}')"
   ]
  },
  {
   "cell_type": "markdown",
   "metadata": {
    "collapsed": false
   },
   "source": [
    "#### Reformer"
   ]
  },
  {
   "cell_type": "code",
   "execution_count": null,
   "metadata": {
    "collapsed": false,
    "jupyter": {
     "is_executing": true
    },
    "pycharm": {
     "is_executing": true
    }
   },
   "outputs": [],
   "source": [
    "start_time = datetime.now()\n",
    "\n",
    "# ADSZ Dataset\n",
    "!python -u run.py --task_name classification --is_training 1 --root_path ./dataset/ADSZ/ --model_id ADSZ-Indep --model Reformer --data ADSZIndep --e_layers 6 --batch_size 32 --d_model 128 --d_ff 256 --des 'Exp' --itr 5 --learning_rate 0.0001 --train_epochs 100 --patience 10\n",
    "\n",
    "# APAVA Dataset\n",
    "!python -u run.py --task_name classification --is_training 1 --root_path /data0/zxj_data/fNIRS/VFT/class4_classhealth_npy --model_id APAVA-Indep --model Reformer --data APAVAIndep --e_layers 6 --batch_size 32 --d_model 128 --d_ff 256 --des 'Exp' --itr 5 --learning_rate 0.0001 --train_epochs 100 --patience 10\n",
    "\n",
    "# ADFD Dataset\n",
    "!python -u run.py --task_name classification --is_training 1 --root_path ./dataset/ADFD/ --model_id ADFD-Indep --model Reformer --data ADFDIndep --e_layers 6 --batch_size 128 --d_model 128 --d_ff 256 --des 'Exp' --itr 5 --learning_rate 0.0001 --train_epochs 100 --patience 10\n",
    "\n",
    "# CNBPM Dataset\n",
    "!python -u run.py --task_name classification --is_training 1 --root_path ./dataset/CNBPM/ --model_id CNBPM-Indep --model Reformer --data CNBPMIndep --e_layers 6 --batch_size 128 --d_model 128 --d_ff 256 --des 'Exp' --itr 5 --learning_rate 0.0001 --train_epochs 100 --patience 10\n",
    "\n",
    "# Cognision-ERP Dataset\n",
    "!python -u run.py --task_name classification --is_training 1 --root_path ./dataset/Cognision-ERP/ --model_id Cognision-ERP-Indep --model Reformer --data COGERPIndep --e_layers 6 --batch_size 32 --d_model 128 --d_ff 256 --des 'Exp' --itr 5 --learning_rate 0.0001 --train_epochs 100 --patience 10\n",
    "\n",
    "end_time = datetime.now()\n",
    "print(f'Duration: {end_time - start_time}')"
   ]
  },
  {
   "cell_type": "markdown",
   "metadata": {
    "collapsed": false
   },
   "source": [
    "#### MTST"
   ]
  },
  {
   "cell_type": "code",
   "execution_count": null,
   "metadata": {
    "collapsed": false,
    "jupyter": {
     "is_executing": true
    }
   },
   "outputs": [],
   "source": [
    "start_time = datetime.now()\n",
    "\n",
    "# ADSZ Dataset\n",
    "!python -u run.py --task_name classification --is_training 1 --root_path ./dataset/ADSZ/ --model_id ADSZ-Indep --model MTST --data ADSZIndep --e_layers 6 --batch_size 32 --d_model 128 --d_ff 256 --patch_len_list 8,32,96 --des 'Exp' --itr 5 --learning_rate 0.0001 --train_epochs 100 --patience 10\n",
    "\n",
    "# APAVA Dataset\n",
    "!python -u run.py --task_name classification --is_training 1 --root_path /data0/zxj_data/fNIRS/VFT/class4_classhealth_npy --model_id APAVA-Indep --model MTST --data APAVAIndep --e_layers 6 --batch_size 32 --d_model 128 --d_ff 256 --patch_len_list 8,32,96 --des 'Exp' --itr 5 --learning_rate 0.0001 --train_epochs 100 --patience 10\n",
    "\n",
    "# ADFD Dataset\n",
    "!python -u run.py --task_name classification --is_training 1 --root_path ./dataset/ADFD/ --model_id ADFD-Indep --model MTST --data ADFDIndep --e_layers 6 --batch_size 128 --d_model 128 --d_ff 256 --patch_len_list 8,32,96 --des 'Exp' --itr 5 --learning_rate 0.0001 --train_epochs 100 --patience 10\n",
    "\n",
    "# CNBPM Dataset\n",
    "!python -u run.py --task_name classification --is_training 1 --root_path ./dataset/CNBPM/ --model_id CNBPM-Indep --model MTST --data CNBPMIndep --e_layers 6 --batch_size 128 --d_model 128 --d_ff 256 --patch_len_list 8,32,96 --des 'Exp' --itr 5 --learning_rate 0.0001 --train_epochs 100 --patience 10\n",
    "\n",
    "# Cognision-ERP Dataset\n",
    "!python -u run.py --task_name classification --is_training 1 --root_path ./dataset/Cognision-ERP/ --model_id Cognision-ERP-Indep --model MTST --data COGERPIndep --e_layers 6 --batch_size 32 --d_model 128 --d_ff 256 --patch_len_list 8,32,96 --des 'Exp' --itr 5 --learning_rate 0.0001 --train_epochs 100 --patience 10\n",
    "\n",
    "end_time = datetime.now()\n",
    "print(f'Duration: {end_time - start_time}')"
   ]
  },
  {
   "cell_type": "markdown",
   "metadata": {
    "collapsed": false
   },
   "source": [
    "#### Transformer"
   ]
  },
  {
   "cell_type": "code",
   "execution_count": null,
   "metadata": {
    "collapsed": false,
    "jupyter": {
     "is_executing": true
    },
    "pycharm": {
     "is_executing": true
    }
   },
   "outputs": [],
   "source": [
    "start_time = datetime.now()\n",
    "\n",
    "# ADSZ Dataset\n",
    "!python -u run.py --task_name classification --is_training 1 --root_path ./dataset/ADSZ/ --model_id ADSZ-Indep --model Transformer --data ADSZIndep --e_layers 6 --batch_size 32 --d_model 128 --d_ff 256 --des 'Exp' --itr 5 --learning_rate 0.0001 --train_epochs 100 --patience 10\n",
    "\n",
    "# APAVA Dataset\n",
    "!python -u run.py --task_name classification --is_training 1 --root_path ./dataset/APAVA/ --model_id APAVA-Indep --model Transformer --data APAVAIndep --e_layers 6 --batch_size 32 --d_model 128 --d_ff 256 --des 'Exp' --itr 5 --learning_rate 0.0001 --train_epochs 100 --patience 10\n",
    "\n",
    "# ADFD Dataset\n",
    "!python -u run.py --task_name classification --is_training 1 --root_path ./dataset/ADFD/ --model_id ADFD-Indep --model Transformer --data ADFDIndep --e_layers 6 --batch_size 128 --d_model 128 --d_ff 256 --des 'Exp' --itr 5 --learning_rate 0.0001 --train_epochs 100 --patience 10\n",
    "\n",
    "# CNBPM Dataset\n",
    "!python -u run.py --task_name classification --is_training 1 --root_path ./dataset/CNBPM/ --model_id CNBPM-Indep --model Transformer --data CNBPMIndep --e_layers 6 --batch_size 128 --d_model 128 --d_ff 256 --des 'Exp' --itr 5 --learning_rate 0.0001 --train_epochs 100 --patience 10\n",
    "\n",
    "# Cognision-ERP Dataset\n",
    "!python -u run.py --task_name classification --is_training 1 --root_path ./dataset/Cognision-ERP/ --model_id Cognision-ERP-Indep --model Transformer --data COGERPIndep --e_layers 6 --batch_size 32 --d_model 128 --d_ff 256 --des 'Exp' --itr 5 --learning_rate 0.0001 --train_epochs 100 --patience 10\n",
    "\n",
    "end_time = datetime.now()\n",
    "print(f'Duration: {end_time - start_time}')"
   ]
  },
  {
   "cell_type": "markdown",
   "metadata": {
    "collapsed": false
   },
   "source": [
    "#### TCN"
   ]
  },
  {
   "cell_type": "code",
   "execution_count": null,
   "metadata": {
    "collapsed": false,
    "jupyter": {
     "is_executing": true
    },
    "pycharm": {
     "is_executing": true
    }
   },
   "outputs": [],
   "source": [
    "start_time = datetime.now()\n",
    "\n",
    "# ADSZ Dataset\n",
    "!python -u run.py --task_name classification --is_training 1 --root_path ./dataset/ADSZ/ --model_id ADSZ-Indep --model TCN --data ADSZIndep --e_layers 6 --batch_size 32 --d_model 128 --d_ff 256 --des 'Exp' --itr 5 --learning_rate 0.0001 --train_epochs 100 --patience 10\n",
    "\n",
    "# APAVA Dataset\n",
    "!python -u run.py --task_name classification --is_training 1 --root_path python -u run.py --task_name classification --is_training 1 --root_path /data0/zxj_data/fNIRS/VFT/class4_classhealth_npy --model_id APAVA-Indep --model EEGNet --data APAVAIndep --e_layers 6 --batch_size 32 --d_model 128 --d_ff 256 --des 'Exp' --itr 5 --learning_rate 0.0001 --train_epochs 100 --patience 10\n",
    " --model_id APAVA-Indep --model TCN --data APAVAIndep --e_layers 6 --batch_size 32 --d_model 128 --d_ff 256 --des 'Exp' --itr 5 --learning_rate 0.0001 --train_epochs 100 --patience 10\n",
    "\n",
    "# ADFD Dataset\n",
    "!python -u run.py --task_name classification --is_training 1 --root_path ./dataset/ADFD/ --model_id ADFD-Indep --model TCN --data ADFDIndep --e_layers 6 --batch_size 128 --d_model 128 --d_ff 256 --des 'Exp' --itr 5 --learning_rate 0.0001 --train_epochs 100 --patience 10\n",
    "\n",
    "# CNBPM Dataset\n",
    "!python -u run.py --task_name classification --is_training 1 --root_path ./dataset/CNBPM/ --model_id CNBPM-Indep --model TCN --data CNBPMIndep --e_layers 6 --batch_size 128 --d_model 128 --d_ff 256 --des 'Exp' --itr 5 --learning_rate 0.0001 --train_epochs 100 --patience 10\n",
    "\n",
    "# Cognision-ERP Dataset\n",
    "!python -u run.py --task_name classification --is_training 1 --root_path ./dataset/Cognision-ERP/ --model_id Cognision-ERP-Indep --model TCN --data COGERPIndep --e_layers 6 --batch_size 32 --d_model 128 --d_ff 256 --des 'Exp' --itr 5 --learning_rate 0.0001 --train_epochs 100 --patience 10\n",
    "\n",
    "end_time = datetime.now()\n",
    "print(f'Duration: {end_time - start_time}')"
   ]
  },
  {
   "cell_type": "markdown",
   "metadata": {
    "collapsed": false
   },
   "source": [
    "#### EEGNet"
   ]
  },
  {
   "cell_type": "code",
   "execution_count": null,
   "metadata": {
    "collapsed": false,
    "jupyter": {
     "is_executing": true
    },
    "pycharm": {
     "is_executing": true
    }
   },
   "outputs": [],
   "source": [
    "start_time = datetime.now()\n",
    "\n",
    "# ADSZ Dataset\n",
    "!python -u run.py --task_name classification --is_training 1 --root_path ./dataset/ADSZ/ --model_id ADSZ-Indep --model EEGNet --data ADSZIndep --e_layers 6 --batch_size 32 --d_model 128 --d_ff 256 --des 'Exp' --itr 5 --learning_rate 0.0001 --train_epochs 100 --patience 10\n",
    "\n",
    "# APAVA Dataset\n",
    "!python -u run.py --task_name classification --is_training 1 --root_path /data0/zxj_data/fNIRS/VFT/class4_classhealth_npy --model_id APAVA-Indep --model EEGNet --data APAVAIndep --e_layers 6 --batch_size 32 --d_model 128 --d_ff 256 --des 'Exp' --itr 5 --learning_rate 0.0001 --train_epochs 100 --patience 10\n",
    "\n",
    "# ADFD Dataset\n",
    "!python -u run.py --task_name classification --is_training 1 --root_path ./dataset/ADFD/ --model_id ADFD-Indep --model EEGNet --data ADFDIndep --e_layers 6 --batch_size 128 --d_model 128 --d_ff 256 --des 'Exp' --itr 5 --learning_rate 0.0001 --train_epochs 100 --patience 10\n",
    "\n",
    "# CNBPM Dataset\n",
    "!python -u run.py --task_name classification --is_training 1 --root_path ./dataset/CNBPM/ --model_id CNBPM-Indep --model EEGNet --data CNBPMIndep --e_layers 6 --batch_size 128 --d_model 128 --d_ff 256 --des 'Exp' --itr 5 --learning_rate 0.0001 --train_epochs 100 --patience 10\n",
    "\n",
    "# Cognision-ERP Dataset\n",
    "!python -u run.py --task_name classification --is_training 1 --root_path ./dataset/Cognision-ERP/ --model_id Cognision-ERP-Indep --model EEGNet --data COGERPIndep --e_layers 6 --batch_size 32 --d_model 128 --d_ff 256 --des 'Exp' --itr 5 --learning_rate 0.0001 --train_epochs 100 --patience 10\n",
    "\n",
    "end_time = datetime.now()\n",
    "print(f'Duration: {end_time - start_time}')"
   ]
  },
  {
   "cell_type": "markdown",
   "metadata": {
    "collapsed": false
   },
   "source": [
    "#### StatisticalFeatures"
   ]
  },
  {
   "cell_type": "code",
   "execution_count": null,
   "metadata": {
    "collapsed": false,
    "jupyter": {
     "is_executing": true
    },
    "pycharm": {
     "is_executing": true
    }
   },
   "outputs": [],
   "source": [
    "start_time = datetime.now()\n",
    "\n",
    "# ADSZ Dataset\n",
    "!python -u run.py --task_name classification --is_training 1 --root_path ./dataset/ADSZ/ --model_id ADSZ-Indep --model StatisticalFeatures --data ADSZIndep --e_layers 6 --batch_size 32 --d_model 128 --d_ff 256 --sampling_rate 128 --des 'Exp' --itr 5 --learning_rate 0.0001 --train_epochs 100 --patience 10\n",
    "\n",
    "# APAVA Dataset\n",
    "!python -u run.py --task_name classification --is_training 1 --root_path ./dataset/APAVA/ --model_id APAVA-Indep --model StatisticalFeatures --data APAVAIndep --e_layers 6 --batch_size 32 --d_model 128 --d_ff 256 --sampling_rate 256 --des 'Exp' --itr 5 --learning_rate 0.0001 --train_epochs 100 --patience 10\n",
    "\n",
    "# ADFD Dataset\n",
    "!python -u run.py --task_name classification --is_training 1 --root_path ./dataset/ADFD/ --model_id ADFD-Indep --model StatisticalFeatures --data ADFDIndep --e_layers 6 --batch_size 128 --d_model 128 --d_ff 256 --sampling_rate 256 --des 'Exp' --itr 5 --learning_rate 0.0001 --train_epochs 100 --patience 10\n",
    "\n",
    "# CNBPM Dataset\n",
    "!python -u run.py --task_name classification --is_training 1 --root_path ./dataset/CNBPM/ --model_id CNBPM-Indep --model StatisticalFeatures --data CNBPMIndep --e_layers 6 --batch_size 128 --d_model 128 --d_ff 256 --sampling_rate 256 --des 'Exp' --itr 5 --learning_rate 0.0001 --train_epochs 100 --patience 10\n",
    "\n",
    "# Cognision-ERP Dataset\n",
    "!python -u run.py --task_name classification --is_training 1 --root_path ./dataset/Cognision-ERP/ --model_id Cognision-ERP-Indep --model StatisticalFeatures --data COGERPIndep --e_layers 6 --batch_size 32 --d_model 128 --d_ff 256 --sampling_rate 125 --des 'Exp' --itr 5 --learning_rate 0.0001 --train_epochs 100 --patience 10\n",
    "\n",
    "end_time = datetime.now()\n",
    "print(f'Duration: {end_time - start_time}')"
   ]
  },
  {
   "cell_type": "markdown",
   "metadata": {
    "collapsed": false
   },
   "source": [
    "#### SpectralFeatures"
   ]
  },
  {
   "cell_type": "code",
   "execution_count": null,
   "metadata": {
    "collapsed": false,
    "jupyter": {
     "is_executing": true
    }
   },
   "outputs": [],
   "source": [
    "start_time = datetime.now()\n",
    "\n",
    "# ADSZ Dataset\n",
    "!python -u run.py --task_name classification --is_training 1 --root_path ./dataset/ADSZ/ --model_id ADSZ-Indep --model SpectralFeatures --data ADSZIndep --e_layers 6 --batch_size 32 --d_model 128 --d_ff 256 --sampling_rate 128 --des 'Exp' --itr 5 --learning_rate 0.0001 --train_epochs 100 --patience 10\n",
    "\n",
    "# APAVA Dataset\n",
    "!python -u run.py --task_name classification --is_training 1 --root_path ./dataset/APAVA/ --model_id APAVA-Indep --model SpectralFeatures --data APAVAIndep --e_layers 6 --batch_size 32 --d_model 128 --d_ff 256 --sampling_rate 256 --des 'Exp' --itr 5 --learning_rate 0.0001 --train_epochs 100 --patience 10\n",
    "\n",
    "# ADFD Dataset\n",
    "!python -u run.py --task_name classification --is_training 1 --root_path ./dataset/ADFD/ --model_id ADFD-Indep --model SpectralFeatures --data ADFDIndep --e_layers 6 --batch_size 128 --d_model 128 --d_ff 256 --sampling_rate 256 --des 'Exp' --itr 5 --learning_rate 0.0001 --train_epochs 100 --patience 10\n",
    "\n",
    "# CNBPM Dataset\n",
    "!python -u run.py --task_name classification --is_training 1 --root_path ./dataset/CNBPM/ --model_id CNBPM-Indep --model SpectralFeatures --data CNBPMIndep --e_layers 6 --batch_size 128 --d_model 128 --d_ff 256 --sampling_rate 256 --des 'Exp' --itr 5 --learning_rate 0.0001 --train_epochs 100 --patience 10\n",
    "\n",
    "# Cognision-ERP Dataset\n",
    "!python -u run.py --task_name classification --is_training 1 --root_path ./dataset/Cognision-ERP/ --model_id Cognision-ERP-Indep --model SpectralFeatures --data COGERPIndep --e_layers 6 --batch_size 32 --d_model 128 --d_ff 256 --sampling_rate 125 --des 'Exp' --itr 5 --learning_rate 0.0001 --train_epochs 100 --patience 10\n",
    "\n",
    "end_time = datetime.now()\n",
    "print(f'Duration: {end_time - start_time}')"
   ]
  },
  {
   "cell_type": "markdown",
   "metadata": {
    "collapsed": false
   },
   "source": [
    "#### PowerFeatures"
   ]
  },
  {
   "cell_type": "code",
   "execution_count": null,
   "metadata": {
    "collapsed": false,
    "jupyter": {
     "is_executing": true
    },
    "pycharm": {
     "is_executing": true
    }
   },
   "outputs": [],
   "source": [
    "start_time = datetime.now()\n",
    "\n",
    "# ADSZ Dataset\n",
    "!python -u run.py --task_name classification --is_training 1 --root_path ./dataset/ADSZ/ --model_id ADSZ-Indep --model PowerFeatures --data ADSZIndep --e_layers 6 --batch_size 32 --d_model 128 --d_ff 256 --sampling_rate 128 --des 'Exp' --itr 5 --learning_rate 0.0001 --train_epochs 100 --patience 10\n",
    "\n",
    "# APAVA Dataset\n",
    "!python -u run.py --task_name classification --is_training 1 --root_path ./dataset/APAVA/ --model_id APAVA-Indep --model PowerFeatures --data APAVAIndep --e_layers 6 --batch_size 32 --d_model 128 --d_ff 256 --sampling_rate 256 --des 'Exp' --itr 5 --learning_rate 0.0001 --train_epochs 100 --patience 10\n",
    "\n",
    "# ADFD Dataset\n",
    "!python -u run.py --task_name classification --is_training 1 --root_path ./dataset/ADFD/ --model_id ADFD-Indep --model PowerFeatures --data ADFDIndep --e_layers 6 --batch_size 128 --d_model 128 --d_ff 256 --sampling_rate 256 --des 'Exp' --itr 5 --learning_rate 0.0001 --train_epochs 100 --patience 10\n",
    "\n",
    "# CNBPM Dataset\n",
    "!python -u run.py --task_name classification --is_training 1 --root_path ./dataset/CNBPM/ --model_id CNBPM-Indep --model PowerFeatures --data CNBPMIndep --e_layers 6 --batch_size 128 --d_model 128 --d_ff 256 --sampling_rate 256 --des 'Exp' --itr 5 --learning_rate 0.0001 --train_epochs 100 --patience 10\n",
    "\n",
    "# Cognision-ERP Dataset\n",
    "!python -u run.py --task_name classification --is_training 1 --root_path ./dataset/Cognision-ERP/ --model_id Cognision-ERP-Indep --model PowerFeatures --data COGERPIndep --e_layers 6 --batch_size 32 --d_model 128 --d_ff 256 --sampling_rate 125 --des 'Exp' --itr 5 --learning_rate 0.0001 --train_epochs 100 --patience 10\n",
    "\n",
    "end_time = datetime.now()\n",
    "print(f'Duration: {end_time - start_time}')"
   ]
  },
  {
   "cell_type": "markdown",
   "metadata": {
    "collapsed": false
   },
   "source": [
    "#### ComplexityFeatures"
   ]
  },
  {
   "cell_type": "code",
   "execution_count": null,
   "metadata": {
    "collapsed": false,
    "jupyter": {
     "is_executing": true
    },
    "pycharm": {
     "is_executing": true
    }
   },
   "outputs": [],
   "source": [
    "start_time = datetime.now()\n",
    "\n",
    "# ADSZ Dataset\n",
    "!python -u run.py --task_name classification --is_training 1 --root_path ./dataset/ADSZ/ --model_id ADSZ-Indep --model ComplexityFeatures --data ADSZIndep --e_layers 6 --batch_size 32 --d_model 128 --d_ff 256 --sampling_rate 128 --des 'Exp' --itr 5 --learning_rate 0.0001 --train_epochs 100 --patience 10\n",
    "\n",
    "# APAVA Dataset\n",
    "!python -u run.py --task_name classification --is_training 1 --root_path ./dataset/APAVA/ --model_id APAVA-Indep --model ComplexityFeatures --data APAVAIndep --e_layers 6 --batch_size 32 --d_model 128 --d_ff 256 --sampling_rate 256 --des 'Exp' --itr 5 --learning_rate 0.0001 --train_epochs 100 --patience 10\n",
    "\n",
    "# ADFD Dataset\n",
    "!python -u run.py --task_name classification --is_training 1 --root_path ./dataset/ADFD/ --model_id ADFD-Indep --model ComplexityFeatures --data ADFDIndep --e_layers 6 --batch_size 128 --d_model 128 --d_ff 256 --sampling_rate 256 --des 'Exp' --itr 5 --learning_rate 0.0001 --train_epochs 100 --patience 10\n",
    "\n",
    "# CNBPM Dataset\n",
    "!python -u run.py --task_name classification --is_training 1 --root_path ./dataset/CNBPM/ --model_id CNBPM-Indep --model ComplexityFeatures --data CNBPMIndep --e_layers 6 --batch_size 128 --d_model 128 --d_ff 256 --sampling_rate 256 --des 'Exp' --itr 5 --learning_rate 0.0001 --train_epochs 100 --patience 10\n",
    "\n",
    "# Cognision-ERP Dataset\n",
    "!python -u run.py --task_name classification --is_training 1 --root_path ./dataset/Cognision-ERP/ --model_id Cognision-ERP-Indep --model ComplexityFeatures --data COGERPIndep --e_layers 6 --batch_size 32 --d_model 128 --d_ff 256 --sampling_rate 125 --des 'Exp' --itr 5 --learning_rate 0.0001 --train_epochs 100 --patience 10\n",
    "\n",
    "end_time = datetime.now()\n",
    "print(f'Duration: {end_time - start_time}')"
   ]
  },
  {
   "cell_type": "markdown",
   "metadata": {
    "collapsed": false
   },
   "source": [
    "#### ADFormer"
   ]
  },
  {
   "cell_type": "code",
   "execution_count": null,
   "metadata": {
    "collapsed": false,
    "jupyter": {
     "is_executing": true
    }
   },
   "outputs": [],
   "source": [
    "# ADSZ Dataset\n",
    "!python -u run.py --task_name classification --is_training 1 --root_path ./dataset/ADSZ/ --model_id ADSZ-Indep --model ADformer --data ADSZIndep --e_layers 6 --batch_size 32 --d_model 128 --d_ff 256 --patch_len_list 4 --up_dim_list 19 --augmentations none,drop --des 'Exp' --itr 5 --learning_rate 0.0001 --train_epochs 100 --patience 10\n",
    "\n",
    "# APAVA Dataset\n",
    "!python -u run.py --task_name classification --is_training 1 --root_path /data0/zxj_data/fNIRS/VFT/class4_classhealth_172_5indicator_npy --model_id APAVA-Indep --model ADformer --data APAVAIndep --e_layers 6 --batch_size 32 --d_model 128 --d_ff 256 --patch_len_list 2,2,4,16,32 --up_dim_list 16,32,64,128 --augmentations none,drop0.15 --swa --des 'Exp' --itr 5 --learning_rate 0.0001 --train_epochs 100 --patience 10\n",
    "\n",
    "# ADFD\n",
    "!python -u run.py --task_name classification --is_training 1 --root_path ./dataset/ADFD/ --model_id ADFD-Indep --model ADformer --data ADFDIndep --e_layers 6 --batch_size 128 --d_model 128 --d_ff 256 --patch_len_list 2,2,2,4,4,4 --up_dim_list 19,38,76,152 --augmentations flip,jitter0.25,drop0.25 --swa --des 'Exp' --itr 5 --learning_rate 0.0001 --train_epochs 100 --patience 10\n",
    "\n",
    "# CNBPM\n",
    "!python -u run.py --task_name classification --is_training 1 --root_path ./dataset/CNBPM/ --model_id CNBPM-Indep --model ADformer --data CNBPMIndep --e_layers 6 --batch_size 128 --d_model 128 --d_ff 256 --patch_len_list 2,2,2,4,4,4 --up_dim_list 19,38,76,152 --augmentations flip1.0,jitter0.25,drop0.25 --swa --des 'Exp' --itr 5 --learning_rate 0.0001 --train_epochs 100 --patience 10\n",
    "\n",
    "# Cognision-ERP Dataset\n",
    "!python -u run.py --task_name classification --is_training 1 --root_path ./dataset/Cognision-ERP/ --model_id Cognision-ERP-Indep --model ADformer --data COGERPIndep --e_layers 6 --batch_size 256 --d_model 128 --d_ff 256 --patch_len_list 3 --up_dim_list 7,7 --augmentations flip,shuffle --no_temporal_block --swa --des 'Exp' --itr 5 --learning_rate 0.0001 --train_epochs 100 --patience 10"
   ]
  },
  {
   "cell_type": "code",
   "execution_count": null,
   "metadata": {
    "collapsed": false,
    "jupyter": {
     "is_executing": true
    }
   },
   "outputs": [],
   "source": [
    "!python -u run.py --task_name classification --is_training 1 --root_path ./dataset/CNBPM/ --model_id CNBPM-Indep --model ADformer --data CNBPMIndep --e_layers 6 --batch_size 128 --d_model 128 --d_ff 256 --patch_len_list 1,1,2,2,2 --up_dim_list 19,38,38,38,76 --augmentations flip1.0,shuffle1.0,drop0.25 --swa --des 'Exp' --itr 5 --learning_rate 0.0001 --train_epochs 100 --patience 10\n",
    "!python -u run.py --task_name classification --is_training 1 --root_path ./dataset/CNBPM/ --model_id CNBPM-Indep --model ADformer --data CNBPMIndep --e_layers 6 --batch_size 128 --d_model 128 --d_ff 256 --patch_len_list 1,1,2,2,2 --up_dim_list 19,38,38,38,76 --augmentations flip1.0,shuffle1.0,drop0.30 --swa --des 'Exp' --itr 5 --learning_rate 0.0001 --train_epochs 100 --patience 10\n",
    "!python -u run.py --task_name classification --is_training 1 --root_path ./dataset/CNBPM/ --model_id CNBPM-Indep --model ADformer --data CNBPMIndep --e_layers 6 --batch_size 128 --d_model 128 --d_ff 256 --patch_len_list 1,1,2,2,2 --up_dim_list 19,38,38,38,76 --augmentations flip1.0,shuffle1.0,drop0.40 --swa --des 'Exp' --itr 5 --learning_rate 0.0001 --train_epochs 100 --patience 10\n",
    "!python -u run.py --task_name classification --is_training 1 --root_path ./dataset/CNBPM/ --model_id CNBPM-Indep --model ADformer --data CNBPMIndep --e_layers 6 --batch_size 128 --d_model 128 --d_ff 256 --patch_len_list 1,1,2,2,2 --up_dim_list 19,38,38,38,76 --augmentations flip1.0,shuffle1.0,drop0.45 --swa --des 'Exp' --itr 5 --learning_rate 0.0001 --train_epochs 100 --patience 10\n",
    "!python -u run.py --task_name classification --is_training 1 --root_path ./dataset/CNBPM/ --model_id CNBPM-Indep --model ADformer --data CNBPMIndep --e_layers 6 --batch_size 128 --d_model 128 --d_ff 256 --patch_len_list 1,1,2,2,2 --up_dim_list 19,38,38,38,76 --augmentations flip1.0,shuffle1.0,drop0.50 --swa --des 'Exp' --itr 5 --learning_rate 0.0001 --train_epochs 100 --patience 10"
   ]
  },
  {
   "cell_type": "code",
   "execution_count": null,
   "metadata": {
    "collapsed": false,
    "jupyter": {
     "is_executing": true
    }
   },
   "outputs": [],
   "source": []
  }
 ],
 "metadata": {
  "kernelspec": {
   "display_name": "Python 3",
   "language": "python",
   "name": "python3"
  },
  "language_info": {
   "codemirror_mode": {
    "name": "ipython",
    "version": 2
   },
   "file_extension": ".py",
   "mimetype": "text/x-python",
   "name": "python",
   "nbconvert_exporter": "python",
   "pygments_lexer": "ipython2",
   "version": "2.7.6"
  }
 },
 "nbformat": 4,
 "nbformat_minor": 0
}
